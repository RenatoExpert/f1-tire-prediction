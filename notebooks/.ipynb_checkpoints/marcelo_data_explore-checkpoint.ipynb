{
 "cells": [
  {
   "cell_type": "code",
   "execution_count": 3,
   "id": "25d2694a-8c1b-4344-9440-5c67041f1315",
   "metadata": {},
   "outputs": [
    {
     "name": "stdout",
     "output_type": "stream",
     "text": [
      "Requirement already satisfied: fastf1 in /home/mgasilva/.pyenv/versions/3.10.6/envs/f1-tire-prediction/lib/python3.10/site-packages (3.5.0)\n",
      "Requirement already satisfied: pandas in /home/mgasilva/.pyenv/versions/3.10.6/envs/f1-tire-prediction/lib/python3.10/site-packages (2.2.3)\n",
      "Requirement already satisfied: matplotlib in /home/mgasilva/.pyenv/versions/3.10.6/envs/f1-tire-prediction/lib/python3.10/site-packages (3.10.1)\n",
      "Requirement already satisfied: numpy<3.0.0,>=1.23.1 in /home/mgasilva/.pyenv/versions/3.10.6/envs/f1-tire-prediction/lib/python3.10/site-packages (from fastf1) (2.2.3)\n",
      "Requirement already satisfied: python-dateutil in /home/mgasilva/.pyenv/versions/3.10.6/envs/f1-tire-prediction/lib/python3.10/site-packages (from fastf1) (2.9.0.post0)\n",
      "Requirement already satisfied: rapidfuzz in /home/mgasilva/.pyenv/versions/3.10.6/envs/f1-tire-prediction/lib/python3.10/site-packages (from fastf1) (3.12.2)\n",
      "Requirement already satisfied: requests-cache>=1.0.0 in /home/mgasilva/.pyenv/versions/3.10.6/envs/f1-tire-prediction/lib/python3.10/site-packages (from fastf1) (1.2.1)\n",
      "Requirement already satisfied: requests>=2.28.1 in /home/mgasilva/.pyenv/versions/3.10.6/envs/f1-tire-prediction/lib/python3.10/site-packages (from fastf1) (2.32.3)\n",
      "Requirement already satisfied: scipy<2.0.0,>=1.8.1 in /home/mgasilva/.pyenv/versions/3.10.6/envs/f1-tire-prediction/lib/python3.10/site-packages (from fastf1) (1.15.2)\n",
      "Requirement already satisfied: timple>=0.1.6 in /home/mgasilva/.pyenv/versions/3.10.6/envs/f1-tire-prediction/lib/python3.10/site-packages (from fastf1) (0.1.8)\n",
      "Requirement already satisfied: websockets<14,>=10.3 in /home/mgasilva/.pyenv/versions/3.10.6/envs/f1-tire-prediction/lib/python3.10/site-packages (from fastf1) (13.1)\n",
      "Requirement already satisfied: pytz>=2020.1 in /home/mgasilva/.pyenv/versions/3.10.6/envs/f1-tire-prediction/lib/python3.10/site-packages (from pandas) (2025.1)\n",
      "Requirement already satisfied: tzdata>=2022.7 in /home/mgasilva/.pyenv/versions/3.10.6/envs/f1-tire-prediction/lib/python3.10/site-packages (from pandas) (2025.1)\n",
      "Requirement already satisfied: contourpy>=1.0.1 in /home/mgasilva/.pyenv/versions/3.10.6/envs/f1-tire-prediction/lib/python3.10/site-packages (from matplotlib) (1.3.1)\n",
      "Requirement already satisfied: cycler>=0.10 in /home/mgasilva/.pyenv/versions/3.10.6/envs/f1-tire-prediction/lib/python3.10/site-packages (from matplotlib) (0.12.1)\n",
      "Requirement already satisfied: fonttools>=4.22.0 in /home/mgasilva/.pyenv/versions/3.10.6/envs/f1-tire-prediction/lib/python3.10/site-packages (from matplotlib) (4.56.0)\n",
      "Requirement already satisfied: kiwisolver>=1.3.1 in /home/mgasilva/.pyenv/versions/3.10.6/envs/f1-tire-prediction/lib/python3.10/site-packages (from matplotlib) (1.4.8)\n",
      "Requirement already satisfied: packaging>=20.0 in /home/mgasilva/.pyenv/versions/3.10.6/envs/f1-tire-prediction/lib/python3.10/site-packages (from matplotlib) (24.2)\n",
      "Requirement already satisfied: pillow>=8 in /home/mgasilva/.pyenv/versions/3.10.6/envs/f1-tire-prediction/lib/python3.10/site-packages (from matplotlib) (11.1.0)\n",
      "Requirement already satisfied: pyparsing>=2.3.1 in /home/mgasilva/.pyenv/versions/3.10.6/envs/f1-tire-prediction/lib/python3.10/site-packages (from matplotlib) (3.2.1)\n",
      "Requirement already satisfied: six>=1.5 in /home/mgasilva/.pyenv/versions/3.10.6/envs/f1-tire-prediction/lib/python3.10/site-packages (from python-dateutil->fastf1) (1.17.0)\n",
      "Requirement already satisfied: charset-normalizer<4,>=2 in /home/mgasilva/.pyenv/versions/3.10.6/envs/f1-tire-prediction/lib/python3.10/site-packages (from requests>=2.28.1->fastf1) (3.4.1)\n",
      "Requirement already satisfied: idna<4,>=2.5 in /home/mgasilva/.pyenv/versions/3.10.6/envs/f1-tire-prediction/lib/python3.10/site-packages (from requests>=2.28.1->fastf1) (3.10)\n",
      "Requirement already satisfied: urllib3<3,>=1.21.1 in /home/mgasilva/.pyenv/versions/3.10.6/envs/f1-tire-prediction/lib/python3.10/site-packages (from requests>=2.28.1->fastf1) (2.3.0)\n",
      "Requirement already satisfied: certifi>=2017.4.17 in /home/mgasilva/.pyenv/versions/3.10.6/envs/f1-tire-prediction/lib/python3.10/site-packages (from requests>=2.28.1->fastf1) (2025.1.31)\n",
      "Requirement already satisfied: attrs>=21.2 in /home/mgasilva/.pyenv/versions/3.10.6/envs/f1-tire-prediction/lib/python3.10/site-packages (from requests-cache>=1.0.0->fastf1) (25.1.0)\n",
      "Requirement already satisfied: cattrs>=22.2 in /home/mgasilva/.pyenv/versions/3.10.6/envs/f1-tire-prediction/lib/python3.10/site-packages (from requests-cache>=1.0.0->fastf1) (24.1.2)\n",
      "Requirement already satisfied: platformdirs>=2.5 in /home/mgasilva/.pyenv/versions/3.10.6/envs/f1-tire-prediction/lib/python3.10/site-packages (from requests-cache>=1.0.0->fastf1) (4.3.6)\n",
      "Requirement already satisfied: url-normalize>=1.4 in /home/mgasilva/.pyenv/versions/3.10.6/envs/f1-tire-prediction/lib/python3.10/site-packages (from requests-cache>=1.0.0->fastf1) (1.4.3)\n",
      "Requirement already satisfied: exceptiongroup>=1.1.1 in /home/mgasilva/.pyenv/versions/3.10.6/envs/f1-tire-prediction/lib/python3.10/site-packages (from cattrs>=22.2->requests-cache>=1.0.0->fastf1) (1.2.2)\n",
      "Requirement already satisfied: typing-extensions!=4.6.3,>=4.1.0 in /home/mgasilva/.pyenv/versions/3.10.6/envs/f1-tire-prediction/lib/python3.10/site-packages (from cattrs>=22.2->requests-cache>=1.0.0->fastf1) (4.12.2)\n"
     ]
    }
   ],
   "source": [
    "!pip install fastf1 pandas matplotlib"
   ]
  },
  {
   "cell_type": "code",
   "execution_count": 4,
   "id": "c55a7259-5063-47ea-871a-4edc1c13e486",
   "metadata": {},
   "outputs": [],
   "source": [
    "import fastf1\n",
    "import pandas as pd"
   ]
  },
  {
   "cell_type": "code",
   "execution_count": 5,
   "id": "98b3f4d3-babb-4013-af3b-e8e57aaab80b",
   "metadata": {},
   "outputs": [
    {
     "ename": "NotADirectoryError",
     "evalue": "Cache directory does not exist! Please check for typos or create it first.",
     "output_type": "error",
     "traceback": [
      "\u001b[0;31m---------------------------------------------------------------------------\u001b[0m",
      "\u001b[0;31mNotADirectoryError\u001b[0m                        Traceback (most recent call last)",
      "Cell \u001b[0;32mIn[5], line 2\u001b[0m\n\u001b[1;32m      1\u001b[0m \u001b[38;5;66;03m# Enable cache for faster subsequent data access\u001b[39;00m\n\u001b[0;32m----> 2\u001b[0m \u001b[43mfastf1\u001b[49m\u001b[38;5;241;43m.\u001b[39;49m\u001b[43mCache\u001b[49m\u001b[38;5;241;43m.\u001b[39;49m\u001b[43menable_cache\u001b[49m\u001b[43m(\u001b[49m\u001b[38;5;124;43m'\u001b[39;49m\u001b[38;5;124;43mcache\u001b[39;49m\u001b[38;5;124;43m'\u001b[39;49m\u001b[43m)\u001b[49m  \u001b[38;5;66;03m# Creates a 'cache' folder in your working directory\u001b[39;00m\n\u001b[1;32m      4\u001b[0m \u001b[38;5;66;03m# Load the session (Year, GP name or number, session type)\u001b[39;00m\n\u001b[1;32m      5\u001b[0m session \u001b[38;5;241m=\u001b[39m fastf1\u001b[38;5;241m.\u001b[39mget_session(\u001b[38;5;241m2024\u001b[39m, \u001b[38;5;124m'\u001b[39m\u001b[38;5;124mBahrain\u001b[39m\u001b[38;5;124m'\u001b[39m, \u001b[38;5;124m'\u001b[39m\u001b[38;5;124mR\u001b[39m\u001b[38;5;124m'\u001b[39m)  \u001b[38;5;66;03m# Example: 2024 Bahrain Race\u001b[39;00m\n",
      "File \u001b[0;32m~/.pyenv/versions/3.10.6/envs/f1-tire-prediction/lib/python3.10/site-packages/fastf1/req.py:262\u001b[0m, in \u001b[0;36mCache.enable_cache\u001b[0;34m(cls, cache_dir, ignore_version, force_renew, use_requests_cache)\u001b[0m\n\u001b[1;32m    259\u001b[0m cache_dir \u001b[38;5;241m=\u001b[39m os\u001b[38;5;241m.\u001b[39mpath\u001b[38;5;241m.\u001b[39mexpanduser(cache_dir)\n\u001b[1;32m    261\u001b[0m \u001b[38;5;28;01mif\u001b[39;00m \u001b[38;5;129;01mnot\u001b[39;00m os\u001b[38;5;241m.\u001b[39mpath\u001b[38;5;241m.\u001b[39mexists(cache_dir):\n\u001b[0;32m--> 262\u001b[0m     \u001b[38;5;28;01mraise\u001b[39;00m \u001b[38;5;167;01mNotADirectoryError\u001b[39;00m(\u001b[38;5;124m\"\u001b[39m\u001b[38;5;124mCache directory does not exist! Please \u001b[39m\u001b[38;5;124m\"\u001b[39m\n\u001b[1;32m    263\u001b[0m                              \u001b[38;5;124m\"\u001b[39m\u001b[38;5;124mcheck for typos or create it first.\u001b[39m\u001b[38;5;124m\"\u001b[39m)\n\u001b[1;32m    264\u001b[0m \u001b[38;5;28mcls\u001b[39m\u001b[38;5;241m.\u001b[39m_CACHE_DIR \u001b[38;5;241m=\u001b[39m cache_dir\n\u001b[1;32m    265\u001b[0m \u001b[38;5;28mcls\u001b[39m\u001b[38;5;241m.\u001b[39m_IGNORE_VERSION \u001b[38;5;241m=\u001b[39m ignore_version\n",
      "\u001b[0;31mNotADirectoryError\u001b[0m: Cache directory does not exist! Please check for typos or create it first."
     ]
    }
   ],
   "source": [
    "# Enable cache for faster subsequent data access\n",
    "fastf1.Cache.enable_cache('cache')  # Creates a 'cache' folder in your working directory\n",
    "\n",
    "# Load the session (Year, GP name or number, session type)\n",
    "session = fastf1.get_session(2024, 'Bahrain', 'R')  # Example: 2024 Bahrain Race\n",
    "session.load()\n",
    "\n",
    "# Get the fastest lap of a specific driver (e.g., Verstappen)\n",
    "fastest_lap = session.laps.pick_driver('VER').pick_fastest()\n",
    "\n",
    "# Retrieve the telemetry data from the fastest lap\n",
    "telemetry = fastest_lap.get_telemetry()\n",
    "\n",
    "# Save the telemetry data to CSV\n",
    "telemetry.to_csv('telemetry_verstappen_fastest_lap.csv', index=False)\n"
   ]
  },
  {
   "cell_type": "code",
   "execution_count": null,
   "id": "26fa44ca-01a2-453d-a644-ab78d641b8c2",
   "metadata": {},
   "outputs": [],
   "source": []
  }
 ],
 "metadata": {
  "kernelspec": {
   "display_name": "Python 3 (ipykernel)",
   "language": "python",
   "name": "python3"
  },
  "language_info": {
   "codemirror_mode": {
    "name": "ipython",
    "version": 3
   },
   "file_extension": ".py",
   "mimetype": "text/x-python",
   "name": "python",
   "nbconvert_exporter": "python",
   "pygments_lexer": "ipython3",
   "version": "3.10.6"
  }
 },
 "nbformat": 4,
 "nbformat_minor": 5
}
