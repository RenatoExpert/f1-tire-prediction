{
 "cells": [
  {
   "cell_type": "code",
   "execution_count": 1,
   "metadata": {},
   "outputs": [],
   "source": [
    "import pandas as pd\n",
    "import numpy as np"
   ]
  },
  {
   "cell_type": "code",
   "execution_count": 3,
   "metadata": {},
   "outputs": [
    {
     "name": "stdout",
     "output_type": "stream",
     "text": [
      "Dataset shape: (67073, 40)\n",
      "\n",
      "Data types and missing values:\n",
      "<class 'pandas.core.frame.DataFrame'>\n",
      "RangeIndex: 67073 entries, 0 to 67072\n",
      "Data columns (total 40 columns):\n",
      " #   Column              Non-Null Count  Dtype  \n",
      "---  ------              --------------  -----  \n",
      " 0   Time                67073 non-null  object \n",
      " 1   Driver              67073 non-null  object \n",
      " 2   DriverNumber        67073 non-null  int64  \n",
      " 3   LapTime             66105 non-null  object \n",
      " 4   LapNumber           67073 non-null  float64\n",
      " 5   Stint               67073 non-null  float64\n",
      " 6   PitOutTime          2355 non-null   object \n",
      " 7   PitInTime           2378 non-null   object \n",
      " 8   Sector1Time         65652 non-null  object \n",
      " 9   Sector2Time         66953 non-null  object \n",
      " 10  Sector3Time         66845 non-null  object \n",
      " 11  Sector1SessionTime  65492 non-null  object \n",
      " 12  Sector2SessionTime  66953 non-null  object \n",
      " 13  Sector3SessionTime  66845 non-null  object \n",
      " 14  SpeedI1             56865 non-null  float64\n",
      " 15  SpeedI2             66956 non-null  float64\n",
      " 16  SpeedFL             64585 non-null  float64\n",
      " 17  SpeedST             60966 non-null  float64\n",
      " 18  IsPersonalBest      66994 non-null  object \n",
      " 19  Compound            67073 non-null  object \n",
      " 20  TyreLife            67073 non-null  float64\n",
      " 21  FreshTyre           67073 non-null  bool   \n",
      " 22  Team                67073 non-null  object \n",
      " 23  LapStartTime        67073 non-null  object \n",
      " 24  LapStartDate        66994 non-null  object \n",
      " 25  TrackStatus         67073 non-null  int64  \n",
      " 26  Position            66966 non-null  float64\n",
      " 27  Deleted             67073 non-null  bool   \n",
      " 28  DeletedReason       886 non-null    object \n",
      " 29  FastF1Generated     67073 non-null  bool   \n",
      " 30  IsAccurate          67073 non-null  bool   \n",
      " 31  AirTemp             67073 non-null  float64\n",
      " 32  Humidity            67073 non-null  float64\n",
      " 33  Pressure            67073 non-null  float64\n",
      " 34  Rainfall            67073 non-null  bool   \n",
      " 35  TrackTemp           67073 non-null  float64\n",
      " 36  WindDirection       67073 non-null  int64  \n",
      " 37  WindSpeed           67073 non-null  float64\n",
      " 38  Event_Year          67073 non-null  int64  \n",
      " 39  GrandPrix           67073 non-null  object \n",
      "dtypes: bool(5), float64(13), int64(4), object(18)\n",
      "memory usage: 18.2+ MB\n",
      "None\n"
     ]
    }
   ],
   "source": [
    "# Load the dataset\n",
    "file_path = '/home/diego_nbotelho/code/diegonbotelho/f1-tire-prediction/raw_data/all_races_df.csv'\n",
    "data = pd.read_csv(file_path)\n",
    "\n",
    "# Display basic info\n",
    "print(\"Dataset shape:\", data.shape)\n",
    "print(\"\\nData types and missing values:\")\n",
    "print(data.info())"
   ]
  },
  {
   "cell_type": "code",
   "execution_count": null,
   "metadata": {},
   "outputs": [],
   "source": []
  }
 ],
 "metadata": {
  "kernelspec": {
   "display_name": "f1-tire-prediction",
   "language": "python",
   "name": "python3"
  },
  "language_info": {
   "codemirror_mode": {
    "name": "ipython",
    "version": 3
   },
   "file_extension": ".py",
   "mimetype": "text/x-python",
   "name": "python",
   "nbconvert_exporter": "python",
   "pygments_lexer": "ipython3",
   "version": "3.10.6"
  }
 },
 "nbformat": 4,
 "nbformat_minor": 2
}
