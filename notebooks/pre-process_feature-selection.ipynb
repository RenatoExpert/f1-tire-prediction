{
 "cells": [
  {
   "cell_type": "markdown",
   "metadata": {},
   "source": [
    "# Preprocessing"
   ]
  },
  {
   "cell_type": "code",
   "execution_count": null,
   "metadata": {},
   "outputs": [],
   "source": [
    "import pandas as pd\n",
    "import numpy as np"
   ]
  },
  {
   "cell_type": "code",
   "execution_count": null,
   "metadata": {},
   "outputs": [],
   "source": [
    "# Load the dataset\n",
    "file_path = '/home/diego_nbotelho/code/diegonbotelho/f1-tire-prediction/raw_data/all_races_df.csv'\n",
    "all_races_df = pd.read_csv(file_path)"
   ]
  },
  {
   "cell_type": "code",
   "execution_count": null,
   "metadata": {},
   "outputs": [],
   "source": [
    "pd.set_option('display.max_columns', None)\n",
    "all_races_df"
   ]
  },
  {
   "cell_type": "code",
   "execution_count": null,
   "metadata": {},
   "outputs": [],
   "source": [
    "# Display basic info\n",
    "print(\"Dataset shape:\", all_races_df.shape)"
   ]
  },
  {
   "cell_type": "code",
   "execution_count": null,
   "metadata": {},
   "outputs": [],
   "source": [
    "# Missing Data Analysis\n",
    "print(\"Missing data per column:\")\n",
    "print(all_races_df.isnull().sum())"
   ]
  },
  {
   "cell_type": "code",
   "execution_count": null,
   "metadata": {},
   "outputs": [],
   "source": [
    "# Exclusion of features that are not necessary\n",
    "columns_to_remove = [\n",
    "    'DriverNumber',\n",
    "    'PitOutTime',\n",
    "    'PitInTime',\n",
    "    'Sector1SessionTime',\n",
    "    'Sector2SessionTime',\n",
    "    'Sector3SessionTime',\n",
    "    'SpeedI1',\n",
    "    'SpeedI2',\n",
    "    'SpeedFL',\n",
    "    'SpeedST',\n",
    "    'IsPersonalBest',\n",
    "    'FreshTyre',\n",
    "    'Team',\n",
    "    'LapStartTime',\n",
    "    'LapStartDate',\n",
    "    'Deleted',\n",
    "    'DeletedReason',\n",
    "    'FastF1Generated',\n",
    "    'IsAccurate',\n",
    "    'WindDirection',\n",
    "    'WindSpeed'\n",
    "]\n",
    "\n",
    "new_df = all_races_df.drop(columns=columns_to_remove)\n",
    "new_df.head(1)"
   ]
  },
  {
   "cell_type": "code",
   "execution_count": null,
   "metadata": {},
   "outputs": [],
   "source": [
    "print(new_df[['Sector1Time', 'Sector2Time', 'Sector3Time', 'LapTime']].dtypes)"
   ]
  },
  {
   "cell_type": "code",
   "execution_count": null,
   "metadata": {},
   "outputs": [],
   "source": [
    "# Convert lap times to seconds\n",
    "new_df['LapTime'] = new_df['LapTime'].dt.total_seconds()\n",
    "new_df['Sector1Time'] = new_df['Sector1Time'].dt.total_seconds()\n",
    "new_df['Sector2Time'] = new_df['Sector2Time'].dt.total_seconds()\n",
    "new_df['Sector3Time'] = new_df['Sector3Time'].dt.total_seconds()"
   ]
  },
  {
   "cell_type": "code",
   "execution_count": null,
   "metadata": {},
   "outputs": [],
   "source": [
    "\n",
    "# Missing Data Analysis\n",
    "print(\"Missing data per column:\")\n",
    "print(new_df.isnull().sum())"
   ]
  },
  {
   "cell_type": "code",
   "execution_count": null,
   "metadata": {},
   "outputs": [],
   "source": [
    "# pd.set_option('display.max_rows', None)\n",
    "new_df.head(200)"
   ]
  },
  {
   "cell_type": "code",
   "execution_count": null,
   "metadata": {},
   "outputs": [],
   "source": [
    "# Encontrar as linhas onde 'Position' é NaN\n",
    "linhas_com_posicao_nula = new_df[new_df['Position'].isnull()]\n",
    "\n",
    "# Exibir essas linhas\n",
    "print(linhas_com_posicao_nula)"
   ]
  },
  {
   "cell_type": "code",
   "execution_count": null,
   "metadata": {},
   "outputs": [],
   "source": []
  }
 ],
 "metadata": {
  "kernelspec": {
   "display_name": "Python 3 (ipykernel)",
   "language": "python",
   "name": "python3"
  },
  "language_info": {
   "codemirror_mode": {
    "name": "ipython",
    "version": 3
   },
   "file_extension": ".py",
   "mimetype": "text/x-python",
   "name": "python",
   "nbconvert_exporter": "python",
   "pygments_lexer": "ipython3",
   "version": "3.10.6"
  }
 },
 "nbformat": 4,
 "nbformat_minor": 4
}
