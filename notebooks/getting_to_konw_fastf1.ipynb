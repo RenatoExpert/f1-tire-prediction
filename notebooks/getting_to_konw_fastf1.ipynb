{
 "cells": [
  {
   "cell_type": "code",
   "execution_count": 1,
   "metadata": {
    "vscode": {
     "languageId": "plaintext"
    }
   },
   "outputs": [
    {
     "name": "stdout",
     "output_type": "stream",
     "text": [
      "Collecting fastf1\n",
      "  Downloading fastf1-3.5.0-py3-none-any.whl.metadata (4.5 kB)\n",
      "Requirement already satisfied: matplotlib<4.0.0,>=3.5.1 in /home/diego_nbotelho/.pyenv/versions/3.10.6/envs/f1-tire-prediction/lib/python3.10/site-packages (from fastf1) (3.10.1)\n",
      "Requirement already satisfied: numpy<3.0.0,>=1.23.1 in /home/diego_nbotelho/.pyenv/versions/3.10.6/envs/f1-tire-prediction/lib/python3.10/site-packages (from fastf1) (2.2.3)\n",
      "Requirement already satisfied: pandas<3.0.0,>=1.4.1 in /home/diego_nbotelho/.pyenv/versions/3.10.6/envs/f1-tire-prediction/lib/python3.10/site-packages (from fastf1) (2.2.3)\n",
      "Requirement already satisfied: python-dateutil in /home/diego_nbotelho/.pyenv/versions/3.10.6/envs/f1-tire-prediction/lib/python3.10/site-packages (from fastf1) (2.9.0.post0)\n",
      "Collecting rapidfuzz (from fastf1)\n",
      "  Downloading rapidfuzz-3.12.2-cp310-cp310-manylinux_2_17_x86_64.manylinux2014_x86_64.whl.metadata (12 kB)\n",
      "Collecting requests-cache>=1.0.0 (from fastf1)\n",
      "  Downloading requests_cache-1.2.1-py3-none-any.whl.metadata (9.9 kB)\n",
      "Requirement already satisfied: requests>=2.28.1 in /home/diego_nbotelho/.pyenv/versions/3.10.6/envs/f1-tire-prediction/lib/python3.10/site-packages (from fastf1) (2.32.3)\n",
      "Requirement already satisfied: scipy<2.0.0,>=1.8.1 in /home/diego_nbotelho/.pyenv/versions/3.10.6/envs/f1-tire-prediction/lib/python3.10/site-packages (from fastf1) (1.15.2)\n",
      "Collecting timple>=0.1.6 (from fastf1)\n",
      "  Downloading timple-0.1.8-py3-none-any.whl.metadata (2.0 kB)\n",
      "Collecting websockets<14,>=10.3 (from fastf1)\n",
      "  Downloading websockets-13.1-cp310-cp310-manylinux_2_5_x86_64.manylinux1_x86_64.manylinux_2_17_x86_64.manylinux2014_x86_64.whl.metadata (6.8 kB)\n",
      "Requirement already satisfied: contourpy>=1.0.1 in /home/diego_nbotelho/.pyenv/versions/3.10.6/envs/f1-tire-prediction/lib/python3.10/site-packages (from matplotlib<4.0.0,>=3.5.1->fastf1) (1.3.1)\n",
      "Requirement already satisfied: cycler>=0.10 in /home/diego_nbotelho/.pyenv/versions/3.10.6/envs/f1-tire-prediction/lib/python3.10/site-packages (from matplotlib<4.0.0,>=3.5.1->fastf1) (0.12.1)\n",
      "Requirement already satisfied: fonttools>=4.22.0 in /home/diego_nbotelho/.pyenv/versions/3.10.6/envs/f1-tire-prediction/lib/python3.10/site-packages (from matplotlib<4.0.0,>=3.5.1->fastf1) (4.56.0)\n",
      "Requirement already satisfied: kiwisolver>=1.3.1 in /home/diego_nbotelho/.pyenv/versions/3.10.6/envs/f1-tire-prediction/lib/python3.10/site-packages (from matplotlib<4.0.0,>=3.5.1->fastf1) (1.4.8)\n",
      "Requirement already satisfied: packaging>=20.0 in /home/diego_nbotelho/.pyenv/versions/3.10.6/envs/f1-tire-prediction/lib/python3.10/site-packages (from matplotlib<4.0.0,>=3.5.1->fastf1) (24.2)\n",
      "Requirement already satisfied: pillow>=8 in /home/diego_nbotelho/.pyenv/versions/3.10.6/envs/f1-tire-prediction/lib/python3.10/site-packages (from matplotlib<4.0.0,>=3.5.1->fastf1) (11.1.0)\n",
      "Requirement already satisfied: pyparsing>=2.3.1 in /home/diego_nbotelho/.pyenv/versions/3.10.6/envs/f1-tire-prediction/lib/python3.10/site-packages (from matplotlib<4.0.0,>=3.5.1->fastf1) (3.2.1)\n",
      "Requirement already satisfied: pytz>=2020.1 in /home/diego_nbotelho/.pyenv/versions/3.10.6/envs/f1-tire-prediction/lib/python3.10/site-packages (from pandas<3.0.0,>=1.4.1->fastf1) (2025.1)\n",
      "Requirement already satisfied: tzdata>=2022.7 in /home/diego_nbotelho/.pyenv/versions/3.10.6/envs/f1-tire-prediction/lib/python3.10/site-packages (from pandas<3.0.0,>=1.4.1->fastf1) (2025.1)\n",
      "Requirement already satisfied: six>=1.5 in /home/diego_nbotelho/.pyenv/versions/3.10.6/envs/f1-tire-prediction/lib/python3.10/site-packages (from python-dateutil->fastf1) (1.17.0)\n",
      "Requirement already satisfied: charset-normalizer<4,>=2 in /home/diego_nbotelho/.pyenv/versions/3.10.6/envs/f1-tire-prediction/lib/python3.10/site-packages (from requests>=2.28.1->fastf1) (3.4.1)\n",
      "Requirement already satisfied: idna<4,>=2.5 in /home/diego_nbotelho/.pyenv/versions/3.10.6/envs/f1-tire-prediction/lib/python3.10/site-packages (from requests>=2.28.1->fastf1) (3.10)\n",
      "Requirement already satisfied: urllib3<3,>=1.21.1 in /home/diego_nbotelho/.pyenv/versions/3.10.6/envs/f1-tire-prediction/lib/python3.10/site-packages (from requests>=2.28.1->fastf1) (2.3.0)\n",
      "Requirement already satisfied: certifi>=2017.4.17 in /home/diego_nbotelho/.pyenv/versions/3.10.6/envs/f1-tire-prediction/lib/python3.10/site-packages (from requests>=2.28.1->fastf1) (2025.1.31)\n",
      "Requirement already satisfied: attrs>=21.2 in /home/diego_nbotelho/.pyenv/versions/3.10.6/envs/f1-tire-prediction/lib/python3.10/site-packages (from requests-cache>=1.0.0->fastf1) (25.1.0)\n",
      "Collecting cattrs>=22.2 (from requests-cache>=1.0.0->fastf1)\n",
      "  Downloading cattrs-24.1.2-py3-none-any.whl.metadata (8.4 kB)\n",
      "Requirement already satisfied: platformdirs>=2.5 in /home/diego_nbotelho/.pyenv/versions/3.10.6/envs/f1-tire-prediction/lib/python3.10/site-packages (from requests-cache>=1.0.0->fastf1) (4.3.6)\n",
      "Collecting url-normalize>=1.4 (from requests-cache>=1.0.0->fastf1)\n",
      "  Downloading url_normalize-1.4.3-py2.py3-none-any.whl.metadata (3.1 kB)\n",
      "Requirement already satisfied: exceptiongroup>=1.1.1 in /home/diego_nbotelho/.pyenv/versions/3.10.6/envs/f1-tire-prediction/lib/python3.10/site-packages (from cattrs>=22.2->requests-cache>=1.0.0->fastf1) (1.2.2)\n",
      "Requirement already satisfied: typing-extensions!=4.6.3,>=4.1.0 in /home/diego_nbotelho/.pyenv/versions/3.10.6/envs/f1-tire-prediction/lib/python3.10/site-packages (from cattrs>=22.2->requests-cache>=1.0.0->fastf1) (4.12.2)\n",
      "Downloading fastf1-3.5.0-py3-none-any.whl (150 kB)\n",
      "Downloading requests_cache-1.2.1-py3-none-any.whl (61 kB)\n",
      "Downloading timple-0.1.8-py3-none-any.whl (17 kB)\n",
      "Downloading websockets-13.1-cp310-cp310-manylinux_2_5_x86_64.manylinux1_x86_64.manylinux_2_17_x86_64.manylinux2014_x86_64.whl (164 kB)\n",
      "Downloading rapidfuzz-3.12.2-cp310-cp310-manylinux_2_17_x86_64.manylinux2014_x86_64.whl (3.1 MB)\n",
      "\u001b[2K   \u001b[90m━━━━━━━━━━━━━━━━━━━━━━━━━━━━━━━━━━━━━━━━\u001b[0m \u001b[32m3.1/3.1 MB\u001b[0m \u001b[31m3.1 MB/s\u001b[0m eta \u001b[36m0:00:00\u001b[0ma \u001b[36m0:00:01\u001b[0m\n",
      "Downloading cattrs-24.1.2-py3-none-any.whl (66 kB)\n",
      "Downloading url_normalize-1.4.3-py2.py3-none-any.whl (6.8 kB)\n",
      "Installing collected packages: websockets, url-normalize, rapidfuzz, cattrs, requests-cache, timple, fastf1\n",
      "Successfully installed cattrs-24.1.2 fastf1-3.5.0 rapidfuzz-3.12.2 requests-cache-1.2.1 timple-0.1.8 url-normalize-1.4.3 websockets-13.1\n"
     ]
    }
   ],
   "source": [
    "!pip install fastf1"
   ]
  },
  {
   "cell_type": "code",
   "execution_count": 17,
   "metadata": {
    "vscode": {
     "languageId": "plaintext"
    }
   },
   "outputs": [],
   "source": [
    "import fastf1 as ff1\n",
    "import fastf1.plotting\n",
    "\n",
    "import numpy as np\n",
    "import pandas as pd"
   ]
  },
  {
   "cell_type": "code",
   "execution_count": 18,
   "metadata": {},
   "outputs": [],
   "source": [
    "# Enable the cache by providing the name of the cache folder\n",
    "ff1.Cache.enable_cache('cache')"
   ]
  },
  {
   "cell_type": "code",
   "execution_count": 19,
   "metadata": {},
   "outputs": [],
   "source": [
    "year= 2024\n",
    "gp = 'Bahrain'\n",
    "event = 'R'"
   ]
  },
  {
   "cell_type": "code",
   "execution_count": 20,
   "metadata": {},
   "outputs": [
    {
     "name": "stderr",
     "output_type": "stream",
     "text": [
      "core           INFO \tLoading data for Bahrain Grand Prix - Race [v3.5.0]\n",
      "req            INFO \tUsing cached data for session_info\n",
      "req            INFO \tUsing cached data for driver_info\n",
      "req            INFO \tUsing cached data for session_status_data\n",
      "req            INFO \tUsing cached data for lap_count\n",
      "req            INFO \tUsing cached data for track_status_data\n",
      "req            INFO \tUsing cached data for _extended_timing_data\n",
      "req            INFO \tUsing cached data for timing_app_data\n",
      "core           INFO \tProcessing timing data...\n",
      "req            INFO \tUsing cached data for car_data\n",
      "req            INFO \tUsing cached data for position_data\n",
      "req            INFO \tUsing cached data for weather_data\n",
      "req            INFO \tUsing cached data for race_control_messages\n",
      "core           INFO \tFinished loading data for 20 drivers: ['1', '11', '55', '16', '63', '4', '44', '81', '14', '18', '24', '20', '3', '22', '23', '27', '31', '10', '77', '2']\n"
     ]
    }
   ],
   "source": [
    "session = ff1.get_session(year, gp, event)\n",
    "session.load()\n",
    "laps = session.laps"
   ]
  },
  {
   "cell_type": "code",
   "execution_count": 21,
   "metadata": {},
   "outputs": [
    {
     "name": "stdout",
     "output_type": "stream",
     "text": [
      "['1', '11', '55', '16', '63', '4', '44', '81', '14', '18', '24', '20', '3', '22', '23', '27', '31', '10', '77', '2']\n"
     ]
    }
   ],
   "source": [
    "drivers = session.drivers\n",
    "print(drivers)"
   ]
  },
  {
   "cell_type": "code",
   "execution_count": 22,
   "metadata": {},
   "outputs": [
    {
     "name": "stdout",
     "output_type": "stream",
     "text": [
      "['VER', 'PER', 'SAI', 'LEC', 'RUS', 'NOR', 'HAM', 'PIA', 'ALO', 'STR', 'ZHO', 'MAG', 'RIC', 'TSU', 'ALB', 'HUL', 'OCO', 'GAS', 'BOT', 'SAR']\n"
     ]
    }
   ],
   "source": [
    "drivers = [session.get_driver(driver)[\"Abbreviation\"] for driver in drivers]\n",
    "print(drivers)"
   ]
  },
  {
   "cell_type": "code",
   "execution_count": 23,
   "metadata": {},
   "outputs": [],
   "source": [
    "stints = laps[[\"Driver\", \"Stint\", \"Compound\", \"LapNumber\"]]\n",
    "stints = stints.groupby([\"Driver\", \"Stint\", \"Compound\"])\n",
    "stints = stints.count().reset_index()"
   ]
  },
  {
   "cell_type": "code",
   "execution_count": 24,
   "metadata": {},
   "outputs": [
    {
     "name": "stdout",
     "output_type": "stream",
     "text": [
      "   Driver  Stint Compound  StintLength\n",
      "0     ALB    1.0     SOFT           15\n",
      "1     ALB    2.0     HARD           21\n",
      "2     ALB    3.0     HARD           20\n",
      "3     ALO    1.0     SOFT           15\n",
      "4     ALO    2.0     HARD           26\n",
      "..    ...    ...      ...          ...\n",
      "58    VER    2.0     HARD           20\n",
      "59    VER    3.0     SOFT           20\n",
      "60    ZHO    1.0     SOFT            9\n",
      "61    ZHO    2.0     HARD           19\n",
      "62    ZHO    3.0     HARD           28\n",
      "\n",
      "[63 rows x 4 columns]\n"
     ]
    }
   ],
   "source": [
    "stints = stints.rename(columns={\"LapNumber\": \"StintLength\"})\n",
    "print(stints)"
   ]
  },
  {
   "cell_type": "code",
   "execution_count": 25,
   "metadata": {},
   "outputs": [
    {
     "data": {
      "image/png": "[encoded data removed]",
      "text/plain": [
       "<Figure size 500x1000 with 1 Axes>"
      ]
     },
     "metadata": {},
     "output_type": "display_data"
    }
   ],
   "source": [
    "fig, ax = plt.subplots(figsize=(5, 10))\n",
    "\n",
    "for driver in drivers:\n",
    "    driver_stints = stints.loc[stints[\"Driver\"] == driver]\n",
    "\n",
    "    previous_stint_end = 0\n",
    "    for idx, row in driver_stints.iterrows():\n",
    "        # each row contains the compound name and stint length\n",
    "        # we can use these information to draw horizontal bars\n",
    "        compound_color = fastf1.plotting.get_compound_color(row[\"Compound\"],\n",
    "                                                            session=session)\n",
    "        plt.barh(\n",
    "            y=driver,\n",
    "            width=row[\"StintLength\"],\n",
    "            left=previous_stint_end,\n",
    "            color=compound_color,\n",
    "            edgecolor=\"black\",\n",
    "            fill=True\n",
    "        )\n",
    "\n",
    "        previous_stint_end += row[\"StintLength\"]\n",
    "\n",
    "plt.title(\"2023 Bahrain Grand Prix Strategies\")\n",
    "plt.xlabel(\"Lap Number\")\n",
    "plt.grid(False)\n",
    "# invert the y-axis so drivers that finish higher are closer to the top\n",
    "ax.invert_yaxis()\n",
    "\n",
    "ax.spines['top'].set_visible(False)\n",
    "ax.spines['right'].set_visible(False)\n",
    "ax.spines['left'].set_visible(False)\n",
    "\n",
    "plt.tight_layout()\n",
    "plt.show()"
   ]
  },
  {
   "cell_type": "code",
   "execution_count": null,
   "metadata": {},
   "outputs": [],
   "source": []
  }
 ],
 "metadata": {
  "kernelspec": {
   "display_name": "Python 3 (ipykernel)",
   "language": "python",
   "name": "python3"
  },
  "language_info": {
   "codemirror_mode": {
    "name": "ipython",
    "version": 3
   },
   "file_extension": ".py",
   "mimetype": "text/x-python",
   "name": "python",
   "nbconvert_exporter": "python",
   "pygments_lexer": "ipython3",
   "version": "3.10.6"
  }
 },
 "nbformat": 4,
 "nbformat_minor": 4
}
